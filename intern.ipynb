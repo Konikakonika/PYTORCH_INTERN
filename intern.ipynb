{
  "nbformat": 4,
  "nbformat_minor": 0,
  "metadata": {
    "colab": {
      "provenance": [],
      "authorship_tag": "ABX9TyNKUeHRl/BtE2UPaJDWPgMl",
      "include_colab_link": true
    },
    "kernelspec": {
      "name": "python3",
      "display_name": "Python 3"
    },
    "language_info": {
      "name": "python"
    }
  },
  "cells": [
    {
      "cell_type": "markdown",
      "metadata": {
        "id": "view-in-github",
        "colab_type": "text"
      },
      "source": [
        "<a href=\"https://colab.research.google.com/github/Konikakonika/PYTORCH_INTERN/blob/main/intern.ipynb\" target=\"_parent\"><img src=\"https://colab.research.google.com/assets/colab-badge.svg\" alt=\"Open In Colab\"/></a>"
      ]
    },
    {
      "cell_type": "markdown",
      "source": [
        "**FEED FORWARD IMPLEMENTATION**"
      ],
      "metadata": {
        "id": "0u4Kihm_NW7R"
      }
    },
    {
      "cell_type": "code",
      "execution_count": 25,
      "metadata": {
        "id": "lus5FJ39Fm8O"
      },
      "outputs": [],
      "source": [
        "import numpy as np"
      ]
    },
    {
      "cell_type": "code",
      "source": [
        "x=np.array([\n",
        "    [1,0,1,0],\n",
        "    [1,0,1,1],\n",
        "    [0,1,0,1]\n",
        "])\n",
        "y=np.array([[1],[1],[0]])"
      ],
      "metadata": {
        "id": "DuYcQl4VF-iy"
      },
      "execution_count": 26,
      "outputs": []
    },
    {
      "cell_type": "code",
      "source": [
        "#activation function\n",
        "def sigmoid(x):\n",
        "  return 1 / (1+np.exp(-x))"
      ],
      "metadata": {
        "id": "GEpsLyGfGcRp"
      },
      "execution_count": 27,
      "outputs": []
    },
    {
      "cell_type": "code",
      "source": [
        "x.shape#3 rows 4 column"
      ],
      "metadata": {
        "colab": {
          "base_uri": "https://localhost:8080/"
        },
        "id": "0_pGNaKpHClx",
        "outputId": "efdeec0f-d8f9-4229-ec66-2c09113145e5"
      },
      "execution_count": 28,
      "outputs": [
        {
          "output_type": "execute_result",
          "data": {
            "text/plain": [
              "(3, 4)"
            ]
          },
          "metadata": {},
          "execution_count": 28
        }
      ]
    },
    {
      "cell_type": "markdown",
      "source": [
        "input layer k neuron equal to no of column\n",
        "hidden neuron decide by hit nd trial\n",
        "output is decide or depend on target column"
      ],
      "metadata": {
        "id": "PtTKMhNqHzON"
      }
    },
    {
      "cell_type": "code",
      "source": [
        "inputNeurons =x.shape[1]#4 value hogyi , jitne no of column honge utne inputneurib honge\n",
        "hiddenNeurons=4#value depend ni krti kisi pr\n",
        "outputNeurons=1# ya to 1 ya 0 do hi output aaskte h"
      ],
      "metadata": {
        "id": "-NW92kTaGzqt"
      },
      "execution_count": 29,
      "outputs": []
    },
    {
      "cell_type": "code",
      "source": [
        "#weight matrix bnana h ,wh=[4,3] wo[3,1] bh[1,3] bo[1,1]"
      ],
      "metadata": {
        "id": "tn0Q3mB0HYdf"
      },
      "execution_count": 30,
      "outputs": []
    },
    {
      "cell_type": "code",
      "source": [
        "weightHidden= np.random.uniform(size=(inputNeurons,hiddenNeurons))\n",
        "biasHidden= np.random.uniform(size=(1,hiddenNeurons))\n",
        "weightOutput= np.random.uniform(size=(hiddenNeurons,outputNeurons))\n",
        "biasOutput= np.random.uniform(size=(1,outputNeurons))"
      ],
      "metadata": {
        "id": "7GUJTuI7MZoH"
      },
      "execution_count": 31,
      "outputs": []
    },
    {
      "cell_type": "code",
      "source": [
        "#feedforward\n",
        "#step1-apply dot product and add bias:f(x)=x.wh+bias\n",
        "np.dot(x,weightHidden)"
      ],
      "metadata": {
        "colab": {
          "base_uri": "https://localhost:8080/"
        },
        "id": "7hyIWW_fNIJL",
        "outputId": "bfdb7a0e-c470-4c24-aa25-6c3dbcdfd14c"
      },
      "execution_count": 32,
      "outputs": [
        {
          "output_type": "execute_result",
          "data": {
            "text/plain": [
              "array([[1.20940823, 0.77430122, 1.1249379 , 0.47117508],\n",
              "       [1.63747519, 1.43652477, 1.36578517, 0.74618922],\n",
              "       [0.61876496, 1.23189367, 0.87176937, 1.22528571]])"
            ]
          },
          "metadata": {},
          "execution_count": 32
        }
      ]
    },
    {
      "cell_type": "code",
      "source": [
        "fx=np.dot(x,weightHidden)+biasHidden"
      ],
      "metadata": {
        "id": "cBIXjffEN_PM"
      },
      "execution_count": 33,
      "outputs": []
    },
    {
      "cell_type": "code",
      "source": [
        "fx"
      ],
      "metadata": {
        "colab": {
          "base_uri": "https://localhost:8080/"
        },
        "id": "_Jq7FSWoOI41",
        "outputId": "6bce0633-3c43-41cb-a266-817ffb8ef509"
      },
      "execution_count": 34,
      "outputs": [
        {
          "output_type": "execute_result",
          "data": {
            "text/plain": [
              "array([[1.5000723 , 1.44249334, 1.12718552, 1.13523388],\n",
              "       [1.92813925, 2.10471689, 1.36803279, 1.41024802],\n",
              "       [0.90942903, 1.9000858 , 0.87401698, 1.88934451]])"
            ]
          },
          "metadata": {},
          "execution_count": 34
        }
      ]
    },
    {
      "cell_type": "code",
      "source": [
        "#step-2: apply activation function\n",
        "hiddenLayer=sigmoid(fx)"
      ],
      "metadata": {
        "id": "9oQjZZOjOKve"
      },
      "execution_count": 35,
      "outputs": []
    },
    {
      "cell_type": "code",
      "source": [
        "hiddenLayer"
      ],
      "metadata": {
        "colab": {
          "base_uri": "https://localhost:8080/"
        },
        "id": "kFbwuXy6OdaV",
        "outputId": "96f8c576-d973-4733-adc3-3edaffbdccd0"
      },
      "execution_count": 36,
      "outputs": [
        {
          "output_type": "execute_result",
          "data": {
            "text/plain": [
              "array([[0.81758526, 0.80884046, 0.75531912, 0.7568035 ],\n",
              "       [0.87304332, 0.89136079, 0.79706213, 0.80380506],\n",
              "       [0.71288331, 0.86990124, 0.70558086, 0.86868077]])"
            ]
          },
          "metadata": {},
          "execution_count": 36
        }
      ]
    },
    {
      "cell_type": "code",
      "source": [
        "#step-3; apply dot prod. and add bias :fx=hiddenlayer.wout+biasout\n",
        "fx_=np.dot(hiddenLayer,weightOutput)+biasOutput"
      ],
      "metadata": {
        "id": "aZ1ZycxGOgX3"
      },
      "execution_count": 37,
      "outputs": []
    },
    {
      "cell_type": "code",
      "source": [
        "fx_"
      ],
      "metadata": {
        "colab": {
          "base_uri": "https://localhost:8080/"
        },
        "id": "DOgSaXtsO4L3",
        "outputId": "b5fa5117-f55e-4976-ff7d-0f78cd7cf182"
      },
      "execution_count": 38,
      "outputs": [
        {
          "output_type": "execute_result",
          "data": {
            "text/plain": [
              "array([[1.85359989],\n",
              "       [1.94097975],\n",
              "       [1.94427623]])"
            ]
          },
          "metadata": {},
          "execution_count": 38
        }
      ]
    },
    {
      "cell_type": "code",
      "source": [
        "biasHidden"
      ],
      "metadata": {
        "colab": {
          "base_uri": "https://localhost:8080/"
        },
        "id": "o5k1VyNlO6qS",
        "outputId": "de618475-ce87-481c-bef8-8f2c1fa117db"
      },
      "execution_count": 39,
      "outputs": [
        {
          "output_type": "execute_result",
          "data": {
            "text/plain": [
              "array([[0.29066407, 0.66819212, 0.00224762, 0.6640588 ]])"
            ]
          },
          "metadata": {},
          "execution_count": 39
        }
      ]
    },
    {
      "cell_type": "code",
      "source": [
        "biasOutput"
      ],
      "metadata": {
        "colab": {
          "base_uri": "https://localhost:8080/"
        },
        "id": "WMrWIOI3P3Ho",
        "outputId": "a2907371-3b59-4c2a-80a6-e869f44dc8f1"
      },
      "execution_count": 40,
      "outputs": [
        {
          "output_type": "execute_result",
          "data": {
            "text/plain": [
              "array([[0.6376998]])"
            ]
          },
          "metadata": {},
          "execution_count": 40
        }
      ]
    },
    {
      "cell_type": "code",
      "source": [
        "outputLayer=sigmoid(fx_)"
      ],
      "metadata": {
        "id": "LLa6xiX7P9A5"
      },
      "execution_count": 41,
      "outputs": []
    },
    {
      "cell_type": "code",
      "source": [
        "outputLayer# 1 1 0 dikhna chahiye pr 1 1 1 h to glt h"
      ],
      "metadata": {
        "colab": {
          "base_uri": "https://localhost:8080/"
        },
        "id": "STBha_yYQHRi",
        "outputId": "fe3df993-22db-4e65-aa1f-655fe24e469b"
      },
      "execution_count": 42,
      "outputs": [
        {
          "output_type": "execute_result",
          "data": {
            "text/plain": [
              "array([[0.86454922],\n",
              "       [0.87445974],\n",
              "       [0.87482118]])"
            ]
          },
          "metadata": {},
          "execution_count": 42
        }
      ]
    },
    {
      "cell_type": "code",
      "source": [
        "outputLayer.shape"
      ],
      "metadata": {
        "colab": {
          "base_uri": "https://localhost:8080/"
        },
        "id": "4IkkN30TQLCw",
        "outputId": "3279df21-0b6a-4c59-bb89-bdeed893d949"
      },
      "execution_count": 43,
      "outputs": [
        {
          "output_type": "execute_result",
          "data": {
            "text/plain": [
              "(3, 1)"
            ]
          },
          "metadata": {},
          "execution_count": 43
        }
      ]
    },
    {
      "cell_type": "markdown",
      "source": [
        "**BACKPROPAGATION**"
      ],
      "metadata": {
        "id": "6kNoH1mjSN7x"
      }
    },
    {
      "cell_type": "code",
      "source": [
        "def derivativeSigmoid(x):\n",
        "  return x*(1-x)"
      ],
      "metadata": {
        "id": "i6FT4bwqY0Ya"
      },
      "execution_count": 44,
      "outputs": []
    },
    {
      "cell_type": "code",
      "source": [
        "errorOutput=outputLayer - y\n",
        "slopeOutput=derivativeSigmoid(outputLayer)\n",
        "deltaOutput=errorOutput*slopeOutput"
      ],
      "metadata": {
        "id": "SQMoVa2JRl83"
      },
      "execution_count": 45,
      "outputs": []
    },
    {
      "cell_type": "code",
      "source": [
        "#error on output layer\n",
        "errorHidden=np.dot(deltaOutput,weightOutput)\n",
        "#slope on ouput layer-derivative sigmoid\n",
        "slopeHidden=derivativeSigmoid(hiddenLayer)\n",
        "deltaHidden=errorHidden*slopeHidden #reverse matrix hogyi h (3,1)nd (3,1) h dot product ka rule nhi h yh "
      ],
      "metadata": {
        "id": "AfGBbmk6ZVyP"
      },
      "execution_count": null,
      "outputs": []
    },
    {
      "cell_type": "code",
      "source": [
        "errorHidden=np.dot(deltaOutput,weightOutput.T)#isiliy transpose liya humne\n",
        "slopeHidden=derivativeSigmoid(hiddenLayer)\n",
        "deltaHidden=errorHidden*slopeHidden"
      ],
      "metadata": {
        "id": "7wBM3wNmZ6Ci"
      },
      "execution_count": 46,
      "outputs": []
    },
    {
      "cell_type": "code",
      "source": [],
      "metadata": {
        "id": "UubXlwH9aHq_"
      },
      "execution_count": null,
      "outputs": []
    }
  ]
}